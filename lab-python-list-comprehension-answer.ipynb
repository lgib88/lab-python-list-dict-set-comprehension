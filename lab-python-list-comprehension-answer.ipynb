{
 "cells": [
  {
   "cell_type": "markdown",
   "metadata": {
    "tags": []
   },
   "source": [
    "# Lab | Data Structures "
   ]
  },
  {
   "cell_type": "markdown",
   "metadata": {},
   "source": [
    "## Exercise: Managing Customer Orders\n",
    "\n",
    "As part of a business venture, you are starting an online store that sells various products. To ensure smooth operations, you need to develop a program that manages customer orders and inventory.\n",
    "\n",
    "Follow the steps below to complete the exercise:\n",
    "\n",
    "1. Define a list called `products` that contains the following items: \"t-shirt\", \"mug\", \"hat\", \"book\", \"keychain\".\n",
    "\n",
    "2. Create an empty dictionary called `inventory`.\n",
    "\n",
    "3. Ask the user to input the quantity of each product available in the inventory. Use the product names from the `products` list as keys in the `inventory` dictionary and assign the respective quantities as values.\n",
    "\n",
    "4. Create an empty set called `customer_orders`.\n",
    "\n",
    "5. Ask the user to input the name of three products that a customer wants to order (from those in the products list, meaning three products out of \"t-shirt\", \"mug\", \"hat\", \"book\" or \"keychain\". Add each product name to the `customer_orders` set.\n",
    "\n",
    "6. Print the products in the `customer_orders` set.\n",
    "\n",
    "7. Calculate the following order statistics:\n",
    "   - Total Products Ordered: The total number of products in the `customer_orders` set.\n",
    "   - Percentage of Products Ordered: The percentage of products ordered compared to the total available products.\n",
    "   \n",
    "   Store these statistics in a tuple called `order_status`.\n",
    "\n",
    "8. Print the order statistics using the following format:\n",
    "   ```\n",
    "   Order Statistics:\n",
    "   Total Products Ordered: <total_products_ordered>\n",
    "   Percentage of Products Ordered: <percentage_ordered>% \n",
    "   ```\n",
    "\n",
    "9. Update the inventory by subtracting 1 from the quantity of each product. Modify the `inventory` dictionary accordingly.\n",
    "\n",
    "10. Print the updated inventory, displaying the quantity of each product on separate lines.\n",
    "\n",
    "Solve the exercise by implementing the steps using the Python concepts of lists, dictionaries, sets, and basic input/output operations. \n"
   ]
  },
  {
   "cell_type": "code",
   "execution_count": 1,
   "metadata": {},
   "outputs": [],
   "source": [
    "# 1. Define a list called products that contains the following items: \"t-shirt\", \"mug\", \"hat\", \"book\", \"keychain\".\n",
    "\n",
    "products = [\"t-shirt\", \"mug\", \"hat\", \"book\", \"keychain\"]\n",
    "\n",
    "customer_orders = [\"mug\", \"hat\", \"book\"]"
   ]
  },
  {
   "cell_type": "code",
   "execution_count": 2,
   "metadata": {},
   "outputs": [
    {
     "name": "stdin",
     "output_type": "stream",
     "text": [
      "Enter the quantity of t-shirts available:  2\n",
      "Enter the quantity of mugs available:  4\n",
      "Enter the quantity of hats available:  2\n",
      "Enter the quantity of books available:  1\n",
      "Enter the quantity of keychains available:  4\n"
     ]
    },
    {
     "name": "stdout",
     "output_type": "stream",
     "text": [
      "{'t-shirt': 2, 'mug': 4, 'hat': 2, 'book': 1, 'keychain': 4}\n"
     ]
    }
   ],
   "source": [
    "# 2. Create an empty dictionary called inventory.\n",
    "\n",
    "# inventory = {}\n",
    "\n",
    "# 2.1 Define a function named initialize_inventory that takes products as a parameter. Inside the function, implement the code for initializing the inventory dictionary using a loop and user input.\n",
    "\n",
    "# Comprehension\n",
    "\n",
    "def initialize_inventory(products):\n",
    "    inventory = {product: int(input(f\"Enter the quantity of {product}s available: \")) for product in products}\n",
    "    return inventory\n",
    "\n",
    "inventory = initialize_inventory(products)\n",
    "print(inventory)"
   ]
  },
  {
   "cell_type": "code",
   "execution_count": 28,
   "metadata": {},
   "outputs": [
    {
     "name": "stdin",
     "output_type": "stream",
     "text": [
      "Enter the quantity of t-shirt:  2\n",
      "Enter the quantity of mug:  3\n",
      "Enter the quantity of hat:  6\n",
      "Enter the quantity of book:  8\n",
      "Enter the quantity of keychain:  1\n"
     ]
    }
   ],
   "source": [
    "# 3. Ask the user to input the quantity of each product available in the inventory. Use the product names from the products list as keys in the inventory dictionary and assign the respective quantities as values.\n",
    "\n",
    "for product in products:\n",
    "    x = -1\n",
    "    while x <= 0:\n",
    "        x = int(input(f\"Enter the quantity of {product}: \"))\n",
    "    inventory[product] = x\n",
    "\n",
    "def product_quantity(products)"
   ]
  },
  {
   "cell_type": "code",
   "execution_count": 15,
   "metadata": {},
   "outputs": [
    {
     "name": "stdin",
     "output_type": "stream",
     "text": [
      "Enter the number of orders:  2\n",
      "Enter the product name:  mug\n",
      "Enter the product name:  hat\n"
     ]
    },
    {
     "name": "stdout",
     "output_type": "stream",
     "text": [
      "{'hat', 'mug'}\n"
     ]
    }
   ],
   "source": [
    "# 4. Create an empty set called customer_orders.\n",
    "\n",
    "# customer_orders = set()\n",
    "\n",
    "# 4.1 Define a function named get_customer_orders that takes no parameters. Inside the function, implement the code for prompting the user to enter the product names using a loop. The function should return the customer_orders set.\n",
    "\n",
    "\"\"\"t = \"t-shirt\"\n",
    "def get_customer_orders(products):\n",
    "    customer_orders = set()\n",
    "    while True:\n",
    "        product = input(\"Enter the product name: \")\n",
    "        if product in products:\n",
    "            customer_orders.add(product)\n",
    "        second_product = input(\"Do you want to add another product? (yes/no): \")\n",
    "        if second_product.lower() != \"yes\":\n",
    "            break\n",
    "    return customer_orders\"\"\"\n",
    "\n",
    "def get_customer_orders(p):\n",
    "    num_orders = int(input(\"Enter the number of orders: \"))\n",
    "    customer_orders = [input(\"Enter the product name: \") for _ in range(num_orders)]\n",
    "    return set(product for product in customer_orders if product in p)\n",
    "\n",
    "customer_orders = get_customer_orders(products)\n",
    "print(customer_orders)"
   ]
  },
  {
   "cell_type": "code",
   "execution_count": 52,
   "metadata": {},
   "outputs": [
    {
     "name": "stdin",
     "output_type": "stream",
     "text": [
      "What product do you want to order? chair\n",
      "Do you want to add another product? yes\n",
      "What product do you want to order? mug\n",
      "Do you want to add another product? no\n"
     ]
    }
   ],
   "source": [
    "# 5.a Prompt the user to enter the name of a product that a customer wants to order.\n",
    "\n",
    "while True:\n",
    "    product = input(\"What product do you want to order?\")\n",
    "\n",
    "# 5.b Add the product name to the \"customer_orders\" set.\n",
    "    \n",
    "    customer_orders.add(product)\n",
    "\n",
    "# 5.c Ask the user if they want to add another product (yes/no).\n",
    "    \n",
    "    another_product = input(\"Do you want to add another product?\")\n",
    "\n",
    "# 5.d. Continue the loop until the user does not want to add another product\n",
    "    \n",
    "    if another_product.lower() != \"yes\":\n",
    "        break\n"
   ]
  },
  {
   "cell_type": "code",
   "execution_count": 53,
   "metadata": {},
   "outputs": [
    {
     "name": "stdout",
     "output_type": "stream",
     "text": [
      "{'mug', 'chair', 'hat'}\n"
     ]
    }
   ],
   "source": [
    "# 6. Print the products in the customer_orders set.\n",
    "\n",
    "print(customer_orders)"
   ]
  },
  {
   "cell_type": "code",
   "execution_count": 54,
   "metadata": {},
   "outputs": [],
   "source": [
    "# 7.1  Total Products Ordered: The total number of products in the customer_orders set.\n",
    "\n",
    "total_products_ordered = len(customer_orders)\n",
    "print \n",
    "\n",
    "# 7.2 Percentage of Products Ordered: The percentage of products ordered compared to the total available products.\n",
    "\n",
    "percentage_products_ordered = (total_products_ordered / len(products)) * 100\n",
    "\n",
    "# 7.3 Store these statistics in a tuple called order_status.\n",
    "\n",
    "order_status = (total_products_ordered, percentage_products_ordered)"
   ]
  },
  {
   "cell_type": "code",
   "execution_count": 55,
   "metadata": {},
   "outputs": [
    {
     "name": "stdout",
     "output_type": "stream",
     "text": [
      "Order Statistics:\n",
      "Total Products Ordered: 3\n",
      "Percentage of Products Ordered: 60.0 %\n"
     ]
    }
   ],
   "source": [
    "# 8. Print the order statistics using the following format:\n",
    "\n",
    "# Order Statistics:\n",
    "# Total Products Ordered: <total_products_ordered>\n",
    "# Percentage of Products Ordered: <percentage_ordered>% \n",
    "\n",
    "print(f\"\"\"Order Statistics:\n",
    "Total Products Ordered: {total_products_ordered}\n",
    "Percentage of Products Ordered: {percentage_products_ordered} %\"\"\")"
   ]
  },
  {
   "cell_type": "code",
   "execution_count": 18,
   "metadata": {},
   "outputs": [
    {
     "name": "stdout",
     "output_type": "stream",
     "text": [
      "{'t-shirt': 2, 'mug': 2, 'hat': -1, 'book': 3, 'keychain': 1}\n"
     ]
    }
   ],
   "source": [
    "# 9. Update the inventory by subtracting 1 from the quantity of each product. Modify the inventory dictionary accordingly.\n",
    "\n",
    "#for order in customer_orders:\n",
    "#    inventory[order] -= 1\n",
    "\n",
    "# 9.1 Instead of updating the inventory by subtracting 1 from the quantity of each product, only do it for the products that were ordered (those in \"customer_orders\").\n",
    "\n",
    "def update_inventory(customer_orders, inventory):\n",
    "    for product in customer_orders:\n",
    "        if product in inventory:\n",
    "            inventory[product] -= 1\n",
    "    return inventory\n",
    "\n",
    "inventory = update_inventory(customer_orders, inventory)\n",
    "print(inventory)\n",
    "\n",
    "\n",
    "\n",
    "# Define a function named calculate_order_statistics that takes customer_orders and products as parameters. Inside the function, implement the code for calculating the order statistics (total products ordered, and percentage of unique products ordered). The function should return these values.\n",
    "\n",
    "def calculate_order_statistics(customer_orders, products):\n",
    "    total_products_ordered = len(customer_orders)\n",
    "    percentage_of_unique_products_ordered = (total_products_ordered / len(products)) * 100\n",
    "    return total_products_ordered, percentage_of_unique_products_ordered\n",
    "\n",
    "# Define a function named print_order_statistics that takes order_statistics as a parameter. Inside the function, implement the code for printing the order statistics.\n",
    "\n",
    "def print_order_statistics(order_statistics):\n",
    "    total_products_ordered, percentage_of_unique_products_ordered = order_statistics\n",
    "    print(f\"Total products ordered: {total_products_ordered}\")\n",
    "    print(f\"Percentage of unique products ordered: {percentage_of_unique_products_ordered}%\")\n",
    "\n",
    "# Define a function named print_updated_inventory that takes inventory as a parameter. Inside the function, implement the code for printing the updated inventory.\n",
    "\n",
    "def print_updated_statistics(inventory):\n",
    "    for product in inventory.items():\n",
    "        print(product)\n"
   ]
  },
  {
   "cell_type": "code",
   "execution_count": 27,
   "metadata": {},
   "outputs": [
    {
     "name": "stdout",
     "output_type": "stream",
     "text": [
      "\n",
      "Updated Inventory:\n",
      "t-shirt : 3\n",
      "mug : 4\n",
      "hat : 1\n",
      "book : 6\n",
      "keychain : 1\n"
     ]
    }
   ],
   "source": [
    "# 10. Print the updated inventory, displaying the quantity of each product on separate lines.\n",
    "\n",
    "print(\"\\nUpdated Inventory:\")\n",
    "for product, quantity in inventory.items():\n",
    "    print(product, \":\", quantity)"
   ]
  },
  {
   "cell_type": "code",
   "execution_count": null,
   "metadata": {},
   "outputs": [],
   "source": []
  }
 ],
 "metadata": {
  "kernelspec": {
   "display_name": "Python 3 (ipykernel)",
   "language": "python",
   "name": "python3"
  },
  "language_info": {
   "codemirror_mode": {
    "name": "ipython",
    "version": 3
   },
   "file_extension": ".py",
   "mimetype": "text/x-python",
   "name": "python",
   "nbconvert_exporter": "python",
   "pygments_lexer": "ipython3",
   "version": "3.11.7"
  }
 },
 "nbformat": 4,
 "nbformat_minor": 4
}
